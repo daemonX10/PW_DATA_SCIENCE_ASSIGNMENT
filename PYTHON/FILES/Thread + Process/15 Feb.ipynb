{
 "cells": [
  {
   "cell_type": "markdown",
   "metadata": {},
   "source": [
    "Q1. What is multiprocessing in python? Why is it useful?  \n",
    "Q2. What are the differences between multiprocessing and multithreading? \n",
    "Q3. Write a python code to create a process using the multiprocessing module. \n",
    "Q4. What is a multiprocessing pool in python? Why is it used? \n",
    "Q5. How can we create a pool of worker processes in python using the multiprocessing module? \n",
    "Q6. Write a python program to create 4 processes, each process should print a different number using the \n",
    "multiprocessing module in python."
   ]
  },
  {
   "cell_type": "code",
   "execution_count": null,
   "metadata": {},
   "outputs": [],
   "source": []
  }
 ],
 "metadata": {
  "language_info": {
   "name": "python"
  }
 },
 "nbformat": 4,
 "nbformat_minor": 2
}
