{
 "cells": [
  {
   "cell_type": "markdown",
   "metadata": {},
   "source": [
    "### All question"
   ]
  },
  {
   "cell_type": "markdown",
   "metadata": {},
   "source": [
    "#### What are the characteristics of the tuples? Is tuple immutable?\n",
    "\n",
    "Tuples in programming have the following characteristics:\n",
    "\n",
    "1. **Ordered**: Tuples maintain the order of elements, i.e., the order in which elements are added to a tuple is the order in which they are accessed.\n",
    "\n",
    "2. **Immutable**: Once a tuple is created, you cannot change its value, i.e., you cannot add, modify, or delete elements from the tuple. This immutability makes tuples reliable for fixed data.\n",
    "\n",
    "3. **Allow Duplicates**: Tuples allow duplicate values, i.e., you can have a tuple with elements that have the same value.\n",
    "\n",
    "4. **Indexable**: Elements in a tuple can be accessed using their index.\n",
    "\n",
    "5. **Iterable**: You can loop over the elements of a tuple.\n",
    "\n",
    "6. **Can Contain Multiple Data Types**: A tuple can contain elements of different data types.\n",
    "\n",
    "So, yes, a tuple is immutable.\n",
    "\n",
    "```python\n",
    "    # Creating a tuple\n",
    "my_tuple = (\"apple\", \"banana\", \"cherry\")\n",
    "\n",
    "# Tuples are ordered\n",
    "print(my_tuple[0])  # Output: apple\n",
    "\n",
    "# Tuples are immutable, this will raise an error\n",
    "# my_tuple[0] = \"avocado\"  # This will raise a TypeError\n",
    "\n",
    "# Tuples allow duplicates\n",
    "my_tuple = (\"apple\", \"banana\", \"cherry\", \"apple\")\n",
    "print(my_tuple)  # Output: ('apple', 'banana', 'cherry', 'apple')\n",
    "\n",
    "# Tuples are indexable\n",
    "print(my_tuple[2])  # Output: cherry\n",
    "\n",
    "# Tuples are iterable\n",
    "for item in my_tuple:\n",
    "    print(item)\n",
    "\n",
    "# Tuples can contain multiple data types\n",
    "my_tuple = (1, \"banana\", 3.14, True)\n",
    "print(my_tuple)  # Output: (1, 'banana', 3.14, True)# Creating a tuple\n",
    "my_tuple = (\"apple\", \"banana\", \"cherry\")\n",
    "\n",
    "# Tuples are ordered\n",
    "print(my_tuple[0])  # Output: apple\n",
    "\n",
    "# Tuples are immutable, this will raise an error\n",
    "# my_tuple[0] = \"avocado\"  # This will raise a TypeError\n",
    "\n",
    "# Tuples allow duplicates\n",
    "my_tuple = (\"apple\", \"banana\", \"cherry\", \"apple\")\n",
    "print(my_tuple)  # Output: ('apple', 'banana', 'cherry', 'apple')\n",
    "\n",
    "# Tuples are indexable\n",
    "print(my_tuple[2])  # Output: cherry\n",
    "\n",
    "\n",
    "```"
   ]
  },
  {
   "cell_type": "markdown",
   "metadata": {},
   "source": [
    "### 2. What are the two tuple methods in python? Give an example of each method. Give a reason why tuples have only two in-built methods as compared to Lists.\n",
    "\n",
    "Tuples in Python have only two built-in methods:\n",
    "\n",
    "1. **count()**: This method returns the number of times a specified value appears in the tuple.\n",
    "\n",
    "Example:\n",
    "```python\n",
    "my_tuple = (1, 3, 7, 8, 7, 5, 4, 6, 8, 5)\n",
    "print(my_tuple.count(5))  # Output: 2\n",
    "```\n",
    "\n",
    "2. **index()**: This method finds the first occurrence of the specified value and returns its position.\n",
    "\n",
    "Example:\n",
    "```python\n",
    "my_tuple = (1, 3, 7, 8, 7, 5, 4, 6, 8, 5)\n",
    "print(my_tuple.index(8))  # Output: 3\n",
    "```\n",
    "\n",
    "The reason why tuples have only two methods compared to lists is because tuples are immutable. Most of the list methods like `append()`, `remove()`, `sort()`, `reverse()`, etc., modify the list. Since tuples can't be modified after they're created, they don't have methods that modify them.\n",
    "```"
   ]
  },
  {
   "cell_type": "markdown",
   "metadata": {},
   "source": [
    "### 3. Which collection datatypes in python do not allow duplicate items? Write a code using a set to remove duplicates from the given list.  \n",
    "List = [1, 1, 1, 2, 1, 3, 1, 4, 2, 1, 2, 2, 2, 3, 2, 4, 3, 1, 3, 2, 3, 3, 3, 4, 4, 1, 4, 2, 4, 3, 4, 4]"
   ]
  },
  {
   "cell_type": "markdown",
   "metadata": {},
   "source": [
    "In Python, the collection data types that do not allow duplicate items are set and dictionary (since Python 3.7, dictionaries maintain the order of items, and duplicate keys are not allowed).\n",
    "\n",
    "Here's how you can use a set to remove duplicates from the given list:\n",
    "    \n",
    "    ```python\n",
    "    List = [1, 1, 1, 2, 1, 3, 1, 4, 2, 1, 2, 2, 2, 3, 2, 4, 3, 1, 3, 2, 3, 3, 3, 4, 4, 1, 4, 2, 4, 3, 4, 4]\n",
    "    unique_items = set(List)\n",
    "    print(unique_items) # Output: {1, 2, 3, 4}\n",
    "```\n",
    "\n",
    "Note: While this does remove duplicates, it also removes the original order of items, because sets in Python are not ordered. If you need to maintain the original order of items, you can use a different approach, such as using a dict or list comprehension with an if condition to check if an item has already been added."
   ]
  },
  {
   "cell_type": "markdown",
   "metadata": {},
   "source": [
    "###  4. Explain the difference between the union() and update() methods for a set. Give an example of each method.\n",
    "### Difference between union() and update() methods for a set:\n",
    "\n",
    "1. **union():**\n",
    "   - **Description:** Combines two sets and returns a new set containing all unique elements from both sets.\n",
    "   - **Example:**\n",
    "     ```python\n",
    "     set1 = {1, 2, 3}\n",
    "     set2 = {3, 4, 5}\n",
    "     result_union = set1.union(set2)\n",
    "     print(result_union)\n",
    "     # Output: {1, 2, 3, 4, 5}\n",
    "     ```\n",
    "\n",
    "2. **update():**\n",
    "   - **Description:** Modifies the set by adding elements from another set. In-place operation.\n",
    "   - **Example:**\n",
    "     ```python\n",
    "     set1 = {1, 2, 3}\n",
    "     set2 = {3, 4, 5}\n",
    "     set1.update(set2)\n",
    "     print(set1)\n",
    "     # Output: {1, 2, 3, 4, 5}\n",
    "     ```\n",
    "\n"
   ]
  },
  {
   "cell_type": "markdown",
   "metadata": {},
   "source": [
    "###  5. What is a dictionary? Give an example. Also, state whether a dictionary is ordered or unordered.\n",
    "\n",
    "### Dictionary:\n",
    "\n",
    "- **Definition:**\n",
    "  - A dictionary is a collection of key-value pairs, where each key must be unique. It is a mutable and versatile data type in Python.\n",
    "\n",
    "- **Example:**\n",
    "  ```python\n",
    "  my_dict = {\"name\": \"John\", \"age\": 25, \"city\": \"New York\"}\n",
    "\n",
    "  dictionaries are guaranteed to maintain the order of insertion. However, it's crucial to note that the ordering feature is officially part of the language starting from Python 3.7\n",
    "\n"
   ]
  },
  {
   "cell_type": "markdown",
   "metadata": {},
   "source": [
    "### 6. Can we create a nested dictionary? If so, please give an example by creating a simple one-level nested dictionary.\n",
    "\n",
    "Yes, we can create a nested dictionary. Here's an example of a simple one-level nested dictionary:\n",
    "\n",
    "```python\n",
    "# Creating a one-level nested dictionary\n",
    "nested_dict = {\n",
    "    'outer_key1': {\n",
    "        'inner_key1': 'inner_value1',\n",
    "        'inner_key2': 'inner_value2'\n",
    "    },\n",
    "    'outer_key2': {\n",
    "        'inner_key3': 'inner_value3',\n",
    "        'inner_key4': 'inner_value4'\n",
    "    }\n",
    "}\n",
    "\n",
    "# Accessing values in the nested dictionary\n",
    "print(nested_dict['outer_key1']['inner_key1'])  # Output: inner_value1\n",
    "print(nested_dict['outer_key2']['inner_key4'])  # Output: inner_value4\n",
    "```"
   ]
  },
  {
   "cell_type": "markdown",
   "metadata": {},
   "source": [
    "### 7. Using setdefault() method, create key named topics in the given dictionary and also add the value of the key as this list ['Python', 'Machine Learning’, 'Deep Learning']"
   ]
  },
  {
   "cell_type": "code",
   "execution_count": 1,
   "metadata": {},
   "outputs": [
    {
     "name": "stdout",
     "output_type": "stream",
     "text": [
      "{'first': 'Python Basics', 'second': 'Python Variables', 'third': 'Python Operators', 'fourth': 'Python Collections'}\n"
     ]
    }
   ],
   "source": [
    "# setdefault() method to create a key named 'topics' in a dictionary and set its value as the specified list.\n",
    "# If the key already exists, this method returns its value.\n",
    "\n",
    "topics = {\"first\": \"Python Basics\", \"second\": \"Python Variables\", \"third\": \"Python Operators\"}\n",
    "\n",
    "topics.setdefault(\"fourth\", \"Python Collections\")\n",
    "print(topics)"
   ]
  },
  {
   "cell_type": "code",
   "execution_count": 3,
   "metadata": {},
   "outputs": [
    {
     "name": "stdout",
     "output_type": "stream",
     "text": [
      "{'name': 'john', 'age': 45, 'city': 'new york', 'language': ['python', 'java', 'c++']}\n"
     ]
    }
   ],
   "source": [
    "my_dic={\n",
    "    \"name\":\"john\",\n",
    "    \"age\":45,\n",
    "    \"city\":\"new york\"\n",
    "}\n",
    "\n",
    "my_dic.setdefault('language',['python','java','c++'])\n",
    "print(my_dic)"
   ]
  },
  {
   "cell_type": "code",
   "execution_count": 8,
   "metadata": {},
   "outputs": [
    {
     "name": "stdout",
     "output_type": "stream",
     "text": [
      "{'name': 'john', 'age': 45, 'city': 'new york', 'language': ['python', 'java', 'c++'], 'da': None, 'github': None}\n"
     ]
    }
   ],
   "source": [
    "my_dic.setdefault('github')\n",
    "print(my_dic)"
   ]
  },
  {
   "cell_type": "code",
   "execution_count": 12,
   "metadata": {},
   "outputs": [
    {
     "data": {
      "text/plain": [
       "'Data Science Masters'"
      ]
     },
     "execution_count": 12,
     "metadata": {},
     "output_type": "execute_result"
    }
   ],
   "source": [
    "dict1 = {'language' : 'Python', 'course': 'Data Science Masters'}\n",
    "dict1.setdefault('course', 'Python Programming')"
   ]
  },
  {
   "cell_type": "markdown",
   "metadata": {},
   "source": [
    "### 8. What are the three view objects in dictionaries? Use the three in-built methods in python to display these three view objects for the given dictionary.  \n",
    "dict1 = {'Sport': 'Cricket' , 'Teams': ['India', 'Australia', 'England', 'South Africa', 'Sri Lanka', 'New  Zealand'] , 'Rank': [1, 2, 3, 4, 5, 6]}\n",
    "\n",
    "The three view objects in dictionaries are:\n",
    "\n",
    "`[dict_keys]`: It represents a view of all the keys in the dictionary.\n",
    "\n",
    "`[dict_values]`: It represents a view of all the values in the dictionary.\n",
    "\n",
    "`[dict_items]`: It represents a view of all key-value pairs in the dictionary."
   ]
  },
  {
   "cell_type": "code",
   "execution_count": 14,
   "metadata": {},
   "outputs": [
    {
     "name": "stdout",
     "output_type": "stream",
     "text": [
      "dict2 keys: dict_keys(['sport', 'team'])\n",
      "dict2 values: dict_values(['Football', ['India', 'Australia', 'England', 'New Zealand']])\n",
      "dict2 items: dict_items([('sport', 'Football'), ('team', ['India', 'Australia', 'England', 'New Zealand'])])\n"
     ]
    }
   ],
   "source": [
    "dict2 = {\n",
    "    'sport': 'Football',\n",
    "    'team':['India','Australia','England','New Zealand']\n",
    "}\n",
    "\n",
    "key_view = dict2.keys()\n",
    "print(\"dict2 keys:\", key_view)\n",
    "\n",
    "value_view = dict2.values()\n",
    "print(\"dict2 values:\", value_view)\n",
    "\n",
    "item_view = dict2.items()\n",
    "print(\"dict2 items:\", item_view)\n"
   ]
  },
  {
   "cell_type": "code",
   "execution_count": null,
   "metadata": {},
   "outputs": [],
   "source": []
  }
 ],
 "metadata": {
  "kernelspec": {
   "display_name": "Python 3",
   "language": "python",
   "name": "python3"
  },
  "language_info": {
   "codemirror_mode": {
    "name": "ipython",
    "version": 3
   },
   "file_extension": ".py",
   "mimetype": "text/x-python",
   "name": "python",
   "nbconvert_exporter": "python",
   "pygments_lexer": "ipython3",
   "version": "3.12.1"
  }
 },
 "nbformat": 4,
 "nbformat_minor": 2
}
