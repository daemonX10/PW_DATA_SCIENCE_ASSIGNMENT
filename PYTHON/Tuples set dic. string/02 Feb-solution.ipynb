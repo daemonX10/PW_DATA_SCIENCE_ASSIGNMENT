{
 "cells": [
  {
   "cell_type": "markdown",
   "metadata": {},
   "source": [
    "### All question"
   ]
  },
  {
   "cell_type": "markdown",
   "metadata": {},
   "source": [
    "\n",
    "\n",
    "3.  Which collection datatypes in python do not allow duplicate items? Write a code using a set to remove duplicates from the given list.  \n",
    "List = [1, 1, 1, 2, 1, 3, 1, 4, 2, 1, 2, 2, 2, 3, 2, 4, 3, 1, 3, 2, 3, 3, 3, 4, 4, 1, 4, 2, 4, 3, 4, 4]\n",
    "4. Explain the difference between the union() and update() methods for a set. Give an example of each method.\n",
    "5. What is a dictionary? Give an example. Also, state whether a dictionary is ordered or unordered.\n",
    "6. Can we create a nested dictionary? If so, please give an example by creating a simple one-level nested dictionary.\n",
    "7. Using setdefault() method, create key named topics in the given dictionary and also add the value of the key as this list ['Python', 'Machine Learning’, 'Deep Learning']  \n",
    "dict1 = {'language' : 'Python', 'course': 'Data Science Masters'}\n",
    "8. What are the three view objects in dictionaries? Use the three in-built methods in python to display these three view objects for the given dictionary.  \n",
    "dict1 = {'Sport': 'Cricket' , 'Teams': ['India', 'Australia', 'England', 'South Africa', 'Sri Lanka', 'New  Zealand']"
   ]
  },
  {
   "cell_type": "markdown",
   "metadata": {},
   "source": [
    "#### What are the characteristics of the tuples? Is tuple immutable?\n",
    "\n",
    "Tuples in programming have the following characteristics:\n",
    "\n",
    "1. **Ordered**: Tuples maintain the order of elements, i.e., the order in which elements are added to a tuple is the order in which they are accessed.\n",
    "\n",
    "2. **Immutable**: Once a tuple is created, you cannot change its value, i.e., you cannot add, modify, or delete elements from the tuple. This immutability makes tuples reliable for fixed data.\n",
    "\n",
    "3. **Allow Duplicates**: Tuples allow duplicate values, i.e., you can have a tuple with elements that have the same value.\n",
    "\n",
    "4. **Indexable**: Elements in a tuple can be accessed using their index.\n",
    "\n",
    "5. **Iterable**: You can loop over the elements of a tuple.\n",
    "\n",
    "6. **Can Contain Multiple Data Types**: A tuple can contain elements of different data types.\n",
    "\n",
    "So, yes, a tuple is immutable.\n",
    "\n",
    "```python\n",
    "    # Creating a tuple\n",
    "my_tuple = (\"apple\", \"banana\", \"cherry\")\n",
    "\n",
    "# Tuples are ordered\n",
    "print(my_tuple[0])  # Output: apple\n",
    "\n",
    "# Tuples are immutable, this will raise an error\n",
    "# my_tuple[0] = \"avocado\"  # This will raise a TypeError\n",
    "\n",
    "# Tuples allow duplicates\n",
    "my_tuple = (\"apple\", \"banana\", \"cherry\", \"apple\")\n",
    "print(my_tuple)  # Output: ('apple', 'banana', 'cherry', 'apple')\n",
    "\n",
    "# Tuples are indexable\n",
    "print(my_tuple[2])  # Output: cherry\n",
    "\n",
    "# Tuples are iterable\n",
    "for item in my_tuple:\n",
    "    print(item)\n",
    "\n",
    "# Tuples can contain multiple data types\n",
    "my_tuple = (1, \"banana\", 3.14, True)\n",
    "print(my_tuple)  # Output: (1, 'banana', 3.14, True)# Creating a tuple\n",
    "my_tuple = (\"apple\", \"banana\", \"cherry\")\n",
    "\n",
    "# Tuples are ordered\n",
    "print(my_tuple[0])  # Output: apple\n",
    "\n",
    "# Tuples are immutable, this will raise an error\n",
    "# my_tuple[0] = \"avocado\"  # This will raise a TypeError\n",
    "\n",
    "# Tuples allow duplicates\n",
    "my_tuple = (\"apple\", \"banana\", \"cherry\", \"apple\")\n",
    "print(my_tuple)  # Output: ('apple', 'banana', 'cherry', 'apple')\n",
    "\n",
    "# Tuples are indexable\n",
    "print(my_tuple[2])  # Output: cherry\n",
    "\n",
    "\n",
    "```"
   ]
  },
  {
   "cell_type": "markdown",
   "metadata": {},
   "source": [
    "### 2. What are the two tuple methods in python? Give an example of each method. Give a reason why tuples have only two in-built methods as compared to Lists.\n",
    "\n",
    "Tuples in Python have only two built-in methods:\n",
    "\n",
    "1. **count()**: This method returns the number of times a specified value appears in the tuple.\n",
    "\n",
    "Example:\n",
    "```python\n",
    "my_tuple = (1, 3, 7, 8, 7, 5, 4, 6, 8, 5)\n",
    "print(my_tuple.count(5))  # Output: 2\n",
    "```\n",
    "\n",
    "2. **index()**: This method finds the first occurrence of the specified value and returns its position.\n",
    "\n",
    "Example:\n",
    "```python\n",
    "my_tuple = (1, 3, 7, 8, 7, 5, 4, 6, 8, 5)\n",
    "print(my_tuple.index(8))  # Output: 3\n",
    "```\n",
    "\n",
    "The reason why tuples have only two methods compared to lists is because tuples are immutable. Most of the list methods like `append()`, `remove()`, `sort()`, `reverse()`, etc., modify the list. Since tuples can't be modified after they're created, they don't have methods that modify them.\n",
    "```"
   ]
  },
  {
   "cell_type": "markdown",
   "metadata": {},
   "source": []
  },
  {
   "cell_type": "markdown",
   "metadata": {},
   "source": []
  },
  {
   "cell_type": "markdown",
   "metadata": {},
   "source": []
  },
  {
   "cell_type": "markdown",
   "metadata": {},
   "source": []
  }
 ],
 "metadata": {
  "kernelspec": {
   "display_name": "Python 3",
   "language": "python",
   "name": "python3"
  },
  "language_info": {
   "codemirror_mode": {
    "name": "ipython",
    "version": 3
   },
   "file_extension": ".py",
   "mimetype": "text/x-python",
   "name": "python",
   "nbconvert_exporter": "python",
   "pygments_lexer": "ipython3",
   "version": "3.12.1"
  }
 },
 "nbformat": 4,
 "nbformat_minor": 2
}
