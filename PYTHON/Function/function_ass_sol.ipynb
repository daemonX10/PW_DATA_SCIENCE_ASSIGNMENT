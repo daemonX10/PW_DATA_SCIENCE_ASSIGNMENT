{
 "cells": [
  {
   "cell_type": "markdown",
   "metadata": {},
   "source": [
    "## Function \n",
    "Note: Create your assignment in Jupyter notebook and upload it to GitHub & share that GitHub repository   \n",
    "link through your dashboard."
   ]
  },
  {
   "cell_type": "markdown",
   "metadata": {},
   "source": [
    "### Q1. Which keyword is used to create a function? Create a function to return a list of odd numbers in the range of 1 to 25.\n"
   ]
  },
  {
   "cell_type": "code",
   "execution_count": 1,
   "metadata": {},
   "outputs": [
    {
     "data": {
      "text/plain": [
       "[1, 3, 5, 7, 9, 11, 13, 15, 17, 19, 21, 23]"
      ]
     },
     "execution_count": 1,
     "metadata": {},
     "output_type": "execute_result"
    }
   ],
   "source": [
    "def gen_odd(n):\n",
    "    for i in range(1,n):\n",
    "        if i%2==1:\n",
    "            yield i \n",
    "\n",
    "list(gen_odd(25))"
   ]
  },
  {
   "cell_type": "markdown",
   "metadata": {},
   "source": [
    "### Q2. Why *args and **kwargs is used in some functions? Create a function each for *args and **kwargs to demonstrate their use.\n",
    "    \n",
    "In Python, *args and **kwargs are used in function definitions to allow the function to accept a variable number of arguments.\n",
    "\n",
    "\n",
    "*args is used to pass a variable number of non-keyword (positional) arguments to a function.\n",
    "\n",
    "**kwargs is used to pass a variable number of keyword arguments (named arguments) to a function.\n"
   ]
  },
  {
   "cell_type": "code",
   "execution_count": 6,
   "metadata": {},
   "outputs": [
    {
     "name": "stdout",
     "output_type": "stream",
     "text": [
      "kwargs using items()\n",
      "a 1\n",
      "b 2\n",
      "f [1, 2]\n",
      "kwargs normally\n",
      "a\n",
      "b\n",
      "f\n",
      "1\n",
      "2\n",
      "3\n"
     ]
    },
    {
     "data": {
      "text/plain": [
       "(1, 2, 3)"
      ]
     },
     "execution_count": 6,
     "metadata": {},
     "output_type": "execute_result"
    }
   ],
   "source": [
    "def print_args(*args):\n",
    "    for arg in args:\n",
    "        print(arg)\n",
    "    return args # returns a tuple\n",
    "\n",
    "'args:', print_args(1,2,3)\n",
    "\n",
    "def print_kwargs(**kwargs):\n",
    "    print('kwargs using items()')\n",
    "    for key, value in kwargs.items():\n",
    "        print(key,value)\n",
    "    print('kwargs normally')\n",
    "    for i in kwargs:\n",
    "        print(i)\n",
    "    return kwargs\n",
    "\n",
    "print_kwargs(a=1,b=2,f=[1,2])\n",
    "    "
   ]
  },
  {
   "cell_type": "markdown",
   "metadata": {},
   "source": [
    "### Q3.  What is an iterator in python? Name the method used to initialise the iterator object and the method used for iteration.\n",
    "\n",
    "An iterator in Python is an object that represents a stream of data and enables iteration through that data. It must implement two methods: __iter__() and __next__().\n",
    "\n",
    "Initializing the iterator object:\n",
    "\n",
    "The __iter__() method is used to initialize the iterator. It returns the iterator object itself. This method is called when the iterator is created.\n",
    "Method for iteration:\n",
    "\n",
    "The __next__() method is used for iteration. It returns the next item from the iterator. If there are no more items to return, it should raise the StopIteration exception."
   ]
  },
  {
   "cell_type": "code",
   "execution_count": 28,
   "metadata": {},
   "outputs": [
    {
     "name": "stdout",
     "output_type": "stream",
     "text": [
      "1\n",
      "2\n",
      "3\n"
     ]
    }
   ],
   "source": [
    "class MyIterator:\n",
    "    def __iter__(self):\n",
    "        self.data = [1,2,3]\n",
    "        self.index= 0\n",
    "        return self\n",
    "    \n",
    "    def __next__(self):\n",
    "        if self.index < len(self.data):\n",
    "            result = self.data[self.index]\n",
    "            self.index += 1\n",
    "            return result\n",
    "        else:\n",
    "            raise StopIteration\n",
    "\n",
    "iterator_obj = iter(MyIterator())\n",
    "\n",
    "for item in iterator_obj:\n",
    "    print(item)"
   ]
  },
  {
   "cell_type": "markdown",
   "metadata": {},
   "source": [
    "### Q4.  What is a generator function in python? Why yield keyword is used? Give an example of a generator function.\n",
    "\n",
    "In Python, a generator function is a special type of function that allows you to create an iterator in a more memory-efficient way. Instead of generating all the values at once and storing them in memory, a generator function yields one value at a time using the yield keyword.\n",
    "\n",
    "Here's a simple breakdown:\n",
    "\n",
    "Generator Function:\n",
    "\n",
    "It's like a regular function but uses yield instead of return.\n",
    "When called, it returns a generator object (an iterator).\n",
    "yield Keyword:\n",
    "\n",
    "It's used to produce a value from the generator function.\n",
    "Unlike return, yield doesn't end the function's execution; it temporarily suspends and saves its state."
   ]
  },
  {
   "cell_type": "code",
   "execution_count": 31,
   "metadata": {},
   "outputs": [
    {
     "data": {
      "text/plain": [
       "[0, 1, 4, 9]"
      ]
     },
     "execution_count": 31,
     "metadata": {},
     "output_type": "execute_result"
    }
   ],
   "source": [
    "def square_numbers(n):\n",
    "    for i in  range(n):\n",
    "        yield i**2\n",
    "\n",
    "list (square_numbers(4))\n",
    "\n"
   ]
  },
  {
   "cell_type": "markdown",
   "metadata": {},
   "source": [
    "Q5. Create a generator function for prime numbers less than 1000. Use the next() method to print the first 20 prime numbers."
   ]
  },
  {
   "cell_type": "code",
   "execution_count": 38,
   "metadata": {},
   "outputs": [
    {
     "name": "stdout",
     "output_type": "stream",
     "text": [
      "2\n",
      "3\n",
      "5\n",
      "7\n",
      "11\n",
      "13\n",
      "17\n",
      "19\n",
      "23\n",
      "29\n",
      "31\n",
      "37\n",
      "41\n",
      "43\n",
      "47\n",
      "53\n",
      "59\n",
      "61\n",
      "67\n",
      "71\n"
     ]
    }
   ],
   "source": [
    "def is_prime(n):\n",
    "    if n<2:\n",
    "        return False\n",
    "    for i in range(2,n):\n",
    "        if n%i==0:\n",
    "            return False\n",
    "    return True\n",
    "\n",
    "def gen_primes(n):\n",
    "    for i in range(n):\n",
    "        if is_prime(i):\n",
    "            yield i\n",
    "\n",
    "prime_generator = gen_primes(100)\n",
    "for _ in range(20):\n",
    "    print(next(prime_generator))"
   ]
  },
  {
   "cell_type": "code",
   "execution_count": null,
   "metadata": {},
   "outputs": [],
   "source": []
  }
 ],
 "metadata": {
  "kernelspec": {
   "display_name": "Python 3",
   "language": "python",
   "name": "python3"
  },
  "language_info": {
   "codemirror_mode": {
    "name": "ipython",
    "version": 3
   },
   "file_extension": ".py",
   "mimetype": "text/x-python",
   "name": "python",
   "nbconvert_exporter": "python",
   "pygments_lexer": "ipython3",
   "version": "3.12.1"
  }
 },
 "nbformat": 4,
 "nbformat_minor": 2
}
